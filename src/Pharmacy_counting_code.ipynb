{
 "cells": [
  {
   "cell_type": "code",
   "execution_count": 1,
   "metadata": {},
   "outputs": [],
   "source": [
    "# import libraries\n",
    "import csv\n",
    "import sys"
   ]
  },
  {
   "cell_type": "code",
   "execution_count": 13,
   "metadata": {},
   "outputs": [],
   "source": [
    "# read pharmacy file into data structure\n",
    "def read_pharma_file(infile):\n",
    "    # set up empty dictionary\n",
    "    pharm = {}\n",
    "    with open(infile, \"r\") as f:\n",
    "    # create DictReader object\n",
    "        my_data = csv.DictReader(f)\n",
    "        # read line-by-line\n",
    "        for line in my_data:\n",
    "            # grab name of drug, set as key\n",
    "            drug = line[\"drug_name\"]\n",
    "            # create tuple with prescriber first and last name\n",
    "            prescriber = tuple([line[\"prescriber_first_name\"], line[\"prescriber_last_name\"]])\n",
    "            # record cost of that prescription\n",
    "            cost = float(line[\"drug_cost\"])\n",
    "            # check if drug already in dictionary\n",
    "            # if not, set up that key and create empty set within list data structure\n",
    "            pharm[drug] = pharm.get(drug, [set(), float()])\n",
    "            # add prescriber tuple to set of prescribers\n",
    "            pharm[drug][0].add(prescriber)\n",
    "            # add cost of that prescription to drug\n",
    "            pharm[drug][1] = pharm[drug][1] + cost\n",
    "        return(pharm)"
   ]
  },
  {
   "cell_type": "code",
   "execution_count": 14,
   "metadata": {},
   "outputs": [],
   "source": [
    "def sort_pharmacy(pharm):\n",
    "    # sort items in dictionary according to cost (desc) and drug name (ascending)\n",
    "    sort_pharm = sorted(pharm.items(), key = lambda x: (-x[1][1],x[0]))\n",
    "    return(sort_pharm)"
   ]
  },
  {
   "cell_type": "code",
   "execution_count": 15,
   "metadata": {},
   "outputs": [],
   "source": [
    "def write_outfile(sorted_pharm, outfile):\n",
    "    # open output file for writing\n",
    "    with open(outfile,\"w\") as of:\n",
    "        # write header\n",
    "        of.write(\"drug_name,num_prescriber,total_cost\")\n",
    "        # write dictionary items with proper formating\n",
    "        # not that {:.0f} is not optimal for finance data\n",
    "        # but required to pass insight_text suite\n",
    "        for drug in sorted_pharm:\n",
    "            of.write(\"\\n{},{},{:.0f}\".format(drug[0], len(drug[1][0]), drug[1][1],2))"
   ]
  },
  {
   "cell_type": "code",
   "execution_count": 16,
   "metadata": {},
   "outputs": [],
   "source": [
    "# main function, pulls modular script together\n",
    "def pharmacy_counting(infile, outfile):\n",
    "    pharm = read_pharma_file(infile)\n",
    "    sorted_pharm = sort_pharmacy(pharm)\n",
    "    write_outfile(sorted_pharm, outfile)"
   ]
  },
  {
   "cell_type": "code",
   "execution_count": 17,
   "metadata": {},
   "outputs": [
    {
     "ename": "FileNotFoundError",
     "evalue": "[Errno 2] No such file or directory: '-f'",
     "output_type": "error",
     "traceback": [
      "\u001b[0;31m---------------------------------------------------------------------------\u001b[0m",
      "\u001b[0;31mFileNotFoundError\u001b[0m                         Traceback (most recent call last)",
      "\u001b[0;32m<ipython-input-17-4d54398cd351>\u001b[0m in \u001b[0;36m<module>\u001b[0;34m()\u001b[0m\n\u001b[1;32m      4\u001b[0m     \u001b[0moutfile\u001b[0m \u001b[0;34m=\u001b[0m \u001b[0msys\u001b[0m\u001b[0;34m.\u001b[0m\u001b[0margv\u001b[0m\u001b[0;34m[\u001b[0m\u001b[0;36m2\u001b[0m\u001b[0;34m]\u001b[0m\u001b[0;34m\u001b[0m\u001b[0;34m\u001b[0m\u001b[0m\n\u001b[1;32m      5\u001b[0m     \u001b[0;31m# run pharmacy_counting\u001b[0m\u001b[0;34m\u001b[0m\u001b[0;34m\u001b[0m\u001b[0;34m\u001b[0m\u001b[0m\n\u001b[0;32m----> 6\u001b[0;31m     \u001b[0mpharmacy_counting\u001b[0m\u001b[0;34m(\u001b[0m\u001b[0minfile\u001b[0m\u001b[0;34m,\u001b[0m \u001b[0moutfile\u001b[0m\u001b[0;34m)\u001b[0m\u001b[0;34m\u001b[0m\u001b[0;34m\u001b[0m\u001b[0m\n\u001b[0m",
      "\u001b[0;32m<ipython-input-16-cd6b6a525edf>\u001b[0m in \u001b[0;36mpharmacy_counting\u001b[0;34m(infile, outfile)\u001b[0m\n\u001b[1;32m      1\u001b[0m \u001b[0;31m# main function, pulls modular script together\u001b[0m\u001b[0;34m\u001b[0m\u001b[0;34m\u001b[0m\u001b[0;34m\u001b[0m\u001b[0m\n\u001b[1;32m      2\u001b[0m \u001b[0;32mdef\u001b[0m \u001b[0mpharmacy_counting\u001b[0m\u001b[0;34m(\u001b[0m\u001b[0minfile\u001b[0m\u001b[0;34m,\u001b[0m \u001b[0moutfile\u001b[0m\u001b[0;34m)\u001b[0m\u001b[0;34m:\u001b[0m\u001b[0;34m\u001b[0m\u001b[0;34m\u001b[0m\u001b[0m\n\u001b[0;32m----> 3\u001b[0;31m     \u001b[0mpharm\u001b[0m \u001b[0;34m=\u001b[0m \u001b[0mread_pharma_file\u001b[0m\u001b[0;34m(\u001b[0m\u001b[0minfile\u001b[0m\u001b[0;34m)\u001b[0m\u001b[0;34m\u001b[0m\u001b[0;34m\u001b[0m\u001b[0m\n\u001b[0m\u001b[1;32m      4\u001b[0m     \u001b[0msorted_pharm\u001b[0m \u001b[0;34m=\u001b[0m \u001b[0msort_pharmacy\u001b[0m\u001b[0;34m(\u001b[0m\u001b[0mpharm\u001b[0m\u001b[0;34m)\u001b[0m\u001b[0;34m\u001b[0m\u001b[0;34m\u001b[0m\u001b[0m\n\u001b[1;32m      5\u001b[0m     \u001b[0mwrite_outfile\u001b[0m\u001b[0;34m(\u001b[0m\u001b[0msorted_pharm\u001b[0m\u001b[0;34m,\u001b[0m \u001b[0moutfile\u001b[0m\u001b[0;34m)\u001b[0m\u001b[0;34m\u001b[0m\u001b[0;34m\u001b[0m\u001b[0m\n",
      "\u001b[0;32m<ipython-input-13-b298f26d0d05>\u001b[0m in \u001b[0;36mread_pharma_file\u001b[0;34m(infile)\u001b[0m\n\u001b[1;32m      3\u001b[0m     \u001b[0;31m# set up empty dictionary\u001b[0m\u001b[0;34m\u001b[0m\u001b[0;34m\u001b[0m\u001b[0;34m\u001b[0m\u001b[0m\n\u001b[1;32m      4\u001b[0m     \u001b[0mpharm\u001b[0m \u001b[0;34m=\u001b[0m \u001b[0;34m{\u001b[0m\u001b[0;34m}\u001b[0m\u001b[0;34m\u001b[0m\u001b[0;34m\u001b[0m\u001b[0m\n\u001b[0;32m----> 5\u001b[0;31m     \u001b[0;32mwith\u001b[0m \u001b[0mopen\u001b[0m\u001b[0;34m(\u001b[0m\u001b[0minfile\u001b[0m\u001b[0;34m,\u001b[0m \u001b[0;34m\"r\"\u001b[0m\u001b[0;34m)\u001b[0m \u001b[0;32mas\u001b[0m \u001b[0mf\u001b[0m\u001b[0;34m:\u001b[0m\u001b[0;34m\u001b[0m\u001b[0;34m\u001b[0m\u001b[0m\n\u001b[0m\u001b[1;32m      6\u001b[0m     \u001b[0;31m# create DictReader object\u001b[0m\u001b[0;34m\u001b[0m\u001b[0;34m\u001b[0m\u001b[0;34m\u001b[0m\u001b[0m\n\u001b[1;32m      7\u001b[0m         \u001b[0mmy_data\u001b[0m \u001b[0;34m=\u001b[0m \u001b[0mcsv\u001b[0m\u001b[0;34m.\u001b[0m\u001b[0mDictReader\u001b[0m\u001b[0;34m(\u001b[0m\u001b[0mf\u001b[0m\u001b[0;34m)\u001b[0m\u001b[0;34m\u001b[0m\u001b[0;34m\u001b[0m\u001b[0m\n",
      "\u001b[0;31mFileNotFoundError\u001b[0m: [Errno 2] No such file or directory: '-f'"
     ]
    }
   ],
   "source": [
    "if __name__ == \"__main__\":\n",
    "    # read the arguments from the command line \n",
    "    infile = sys.argv[1]\n",
    "    outfile = sys.argv[2]\n",
    "    # run pharmacy_counting\n",
    "    pharmacy_counting(infile, outfile)"
   ]
  },
  {
   "cell_type": "code",
   "execution_count": null,
   "metadata": {},
   "outputs": [],
   "source": []
  }
 ],
 "metadata": {
  "kernelspec": {
   "display_name": "Python 3",
   "language": "python",
   "name": "python3"
  },
  "language_info": {
   "codemirror_mode": {
    "name": "ipython",
    "version": 3
   },
   "file_extension": ".py",
   "mimetype": "text/x-python",
   "name": "python",
   "nbconvert_exporter": "python",
   "pygments_lexer": "ipython3",
   "version": "3.6.8"
  }
 },
 "nbformat": 4,
 "nbformat_minor": 2
}
